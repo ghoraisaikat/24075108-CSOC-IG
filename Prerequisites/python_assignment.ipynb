{
 "cells": [
  {
   "cell_type": "code",
   "execution_count": 1,
   "id": "d3b8835a",
   "metadata": {},
   "outputs": [],
   "source": [
    "import numpy as np\n",
    "import pandas as pd\n",
    "import matplotlib.pyplot as plt\n",
    "import time"
   ]
  },
  {
   "cell_type": "code",
   "execution_count": 2,
   "id": "1de1bbd7",
   "metadata": {},
   "outputs": [],
   "source": [
    "df = pd.read_csv('housing.csv')"
   ]
  },
  {
   "cell_type": "markdown",
   "id": "6a4dd5ac",
   "metadata": {},
   "source": [
    "ENCODING THE ocean_proximity CATEGORICAL VARIABLE"
   ]
  },
  {
   "cell_type": "code",
   "execution_count": 3,
   "id": "ae6394e1",
   "metadata": {},
   "outputs": [],
   "source": [
    "def encode_proximity(x):\n",
    "    location = x['ocean_proximity']\n",
    "    if location == 'NEAR BAY':\n",
    "        return 0\n",
    "    elif location == '<1H OCEAN':\n",
    "        return 1\n",
    "    elif location == 'INLAND':\n",
    "        return 2\n",
    "    elif location == 'NEAR OCEAN':\n",
    "        return 3\n",
    "    elif location == 'ISLAND':\n",
    "        return 4\n",
    "    else:\n",
    "        raise Exception\n",
    "df['ocean_proximity'] = df.apply(encode_proximity, axis = 1)"
   ]
  },
  {
   "cell_type": "markdown",
   "id": "c7200484",
   "metadata": {},
   "source": [
    "# PREPROCESSING"
   ]
  },
  {
   "cell_type": "markdown",
   "id": "cec0805a",
   "metadata": {},
   "source": [
    "FILLING OUT nan's IN total_bedrooms"
   ]
  },
  {
   "cell_type": "code",
   "execution_count": 4,
   "id": "843c339f",
   "metadata": {},
   "outputs": [],
   "source": [
    "df['total_bedrooms'] = df['total_bedrooms'].fillna(df['total_bedrooms'].mean())"
   ]
  },
  {
   "cell_type": "markdown",
   "id": "4f7ef56f",
   "metadata": {},
   "source": [
    "APPLYING Z-SCALE NORMALIZATION TO THE median_house_value"
   ]
  },
  {
   "cell_type": "code",
   "execution_count": 5,
   "id": "0709aeff",
   "metadata": {},
   "outputs": [],
   "source": [
    "MEAN = df['median_house_value'].mean()\n",
    "STD = df['median_house_value'].std()\n",
    "\n",
    "df['median_house_value'] = df.apply(lambda x: (x['median_house_value'] - MEAN) / STD, axis = 1)"
   ]
  },
  {
   "cell_type": "markdown",
   "id": "e6983ce1",
   "metadata": {},
   "source": [
    "APPLYING Z-SCALE NORMALIZATION TO total_rooms, total_bedrooms, population, households AND median_income\n",
    "AVOIDING APPLYING NORMALIZATION TO CATEGORICAL VARIABLE ocean_proximity"
   ]
  },
  {
   "cell_type": "code",
   "execution_count": 6,
   "id": "7b211080",
   "metadata": {},
   "outputs": [],
   "source": [
    "columns = df.columns.to_list()[:-2]\n",
    "for col in columns:\n",
    "    MEAN = df[col].mean()\n",
    "    STD = df[col].std()\n",
    "    df[col] = df.apply(lambda x: (x[col] - MEAN) / STD, axis = 1)"
   ]
  },
  {
   "cell_type": "markdown",
   "id": "6130b95b",
   "metadata": {},
   "source": [
    "SEPARATING THE DATASET INTO label(Y) AND input_features(X)"
   ]
  },
  {
   "cell_type": "code",
   "execution_count": 7,
   "id": "e724810d",
   "metadata": {},
   "outputs": [],
   "source": [
    "train = df.sample(frac = 0.7, random_state = 24075108)\n",
    "combined = df.drop(train.index)\n",
    "test = combined.sample(frac = 2 / 3, random_state = 24075108)\n",
    "val = combined.drop(test.index)"
   ]
  },
  {
   "cell_type": "code",
   "execution_count": 8,
   "id": "aa49581e-ff95-4f36-a5eb-713a5678e7da",
   "metadata": {},
   "outputs": [],
   "source": [
    "train_Y = train['median_house_value'].values\n",
    "train_X = train.loc[:, ['housing_median_age', 'total_rooms', 'total_bedrooms', 'population', 'households', 'median_income', 'ocean_proximity']].values\n",
    "\n",
    "test_Y = test['median_house_value'].values\n",
    "test_X = test.loc[:, ['housing_median_age', 'total_rooms', 'total_bedrooms', 'population', 'households', 'median_income', 'ocean_proximity']].values\n",
    "\n",
    "val_Y = val['median_house_value'].values\n",
    "val_X = val.loc[:, ['housing_median_age', 'total_rooms', 'total_bedrooms', 'population', 'households', 'median_income', 'ocean_proximity']].values"
   ]
  },
  {
   "cell_type": "markdown",
   "id": "6651e65f",
   "metadata": {},
   "source": [
    "# STARTING TRAINING"
   ]
  },
  {
   "cell_type": "code",
   "execution_count": 9,
   "id": "8375d80e",
   "metadata": {},
   "outputs": [],
   "source": [
    "THETA =[0.0 for x in range(train_X.shape[1] + 1)]"
   ]
  },
  {
   "cell_type": "code",
   "execution_count": 10,
   "id": "fb5292d9",
   "metadata": {},
   "outputs": [],
   "source": [
    "LEARNING_RATE = 0.01\n",
    "\n",
    "def h(THETA, xi):\n",
    "    partial = 0.0\n",
    "    xi = np.insert(xi, 0, 1)\n",
    "    for i in range(len(THETA)):\n",
    "        partial += THETA[i] * xi[i]\n",
    "    return partial\n",
    "\n",
    "def cost(THETA, X, Y):\n",
    "    res = 0.0\n",
    "    m = Y.size\n",
    "    for idx, _ in enumerate(X):\n",
    "        h_of_theta = h(THETA, _)\n",
    "        res += (h_of_theta - Y[idx]) ** 2\n",
    "    return (1 / (2 * m)) * res\n",
    "\n",
    "def r2(THETA, X, Y):\n",
    "    m = Y.size\n",
    "    RSS = 2 * m * cost(THETA, X, Y)\n",
    "    TSS = sum([y ** 2 for y in Y])\n",
    "    # As after normalization, mean of Y becomes 0\n",
    "    return 1 - (RSS / TSS)\n",
    "\n",
    "def r2_preds_true(Y_pred, Y_true):\n",
    "    m = Y_pred.size\n",
    "    RSS = np.sum(np.power(Y_pred - Y_true, 2))\n",
    "    TSS = np.sum(np.power(Y_true.mean() - Y_true, 2))\n",
    "    return 1 - (RSS / TSS)"
   ]
  },
  {
   "cell_type": "code",
   "execution_count": 11,
   "id": "671504af",
   "metadata": {},
   "outputs": [],
   "source": [
    "def update_theta_j(THETA, X, Y, j):\n",
    "    m = Y.size\n",
    "    del_J_theta_j = 0.0\n",
    "    for i in range(m):\n",
    "        xi = np.insert(X[i], 0, 1)\n",
    "        del_J_theta_j = del_J_theta_j + xi[j] * (h(THETA, X[i]) - Y[i])\n",
    "    del_J_theta_j = del_J_theta_j * (LEARNING_RATE / m)\n",
    "    return del_J_theta_j\n",
    "    \n",
    "def update_theta(THETA, X, Y):\n",
    "    THETA_OLD = THETA.copy()\n",
    "    \n",
    "    n = len(THETA)\n",
    "    for i in range(n):\n",
    "        THETA[i] -= update_theta_j(THETA_OLD, X, Y, i)\n",
    "    return THETA"
   ]
  },
  {
   "cell_type": "code",
   "execution_count": 20,
   "id": "766fd60f",
   "metadata": {
    "scrolled": true
   },
   "outputs": [
    {
     "ename": "KeyboardInterrupt",
     "evalue": "",
     "output_type": "error",
     "traceback": [
      "\u001b[31m---------------------------------------------------------------------------\u001b[39m",
      "\u001b[31mKeyboardInterrupt\u001b[39m                         Traceback (most recent call last)",
      "\u001b[36mCell\u001b[39m\u001b[36m \u001b[39m\u001b[32mIn[20]\u001b[39m\u001b[32m, line 8\u001b[39m\n\u001b[32m      6\u001b[39m \u001b[38;5;28;01mfor\u001b[39;00m i \u001b[38;5;129;01min\u001b[39;00m \u001b[38;5;28mrange\u001b[39m(\u001b[32m1000\u001b[39m):\n\u001b[32m      7\u001b[39m     start_epoch = time.time()\n\u001b[32m----> \u001b[39m\u001b[32m8\u001b[39m     THETA = \u001b[43mupdate_theta\u001b[49m\u001b[43m(\u001b[49m\u001b[43mTHETA\u001b[49m\u001b[43m,\u001b[49m\u001b[43m \u001b[49m\u001b[43mtrain_X\u001b[49m\u001b[43m,\u001b[49m\u001b[43m \u001b[49m\u001b[43mtrain_Y\u001b[49m\u001b[43m)\u001b[49m\n\u001b[32m      9\u001b[39m     end_epoch = time.time()\n\u001b[32m     10\u001b[39m     cost_VAL = cost(THETA, val_X, val_Y)\n",
      "\u001b[36mCell\u001b[39m\u001b[36m \u001b[39m\u001b[32mIn[11]\u001b[39m\u001b[32m, line 15\u001b[39m, in \u001b[36mupdate_theta\u001b[39m\u001b[34m(THETA, X, Y)\u001b[39m\n\u001b[32m     13\u001b[39m n = \u001b[38;5;28mlen\u001b[39m(THETA)\n\u001b[32m     14\u001b[39m \u001b[38;5;28;01mfor\u001b[39;00m i \u001b[38;5;129;01min\u001b[39;00m \u001b[38;5;28mrange\u001b[39m(n):\n\u001b[32m---> \u001b[39m\u001b[32m15\u001b[39m     THETA[i] -= \u001b[43mupdate_theta_j\u001b[49m\u001b[43m(\u001b[49m\u001b[43mTHETA_OLD\u001b[49m\u001b[43m,\u001b[49m\u001b[43m \u001b[49m\u001b[43mX\u001b[49m\u001b[43m,\u001b[49m\u001b[43m \u001b[49m\u001b[43mY\u001b[49m\u001b[43m,\u001b[49m\u001b[43m \u001b[49m\u001b[43mi\u001b[49m\u001b[43m)\u001b[49m\n\u001b[32m     16\u001b[39m \u001b[38;5;28;01mreturn\u001b[39;00m THETA\n",
      "\u001b[36mCell\u001b[39m\u001b[36m \u001b[39m\u001b[32mIn[11]\u001b[39m\u001b[32m, line 6\u001b[39m, in \u001b[36mupdate_theta_j\u001b[39m\u001b[34m(THETA, X, Y, j)\u001b[39m\n\u001b[32m      4\u001b[39m \u001b[38;5;28;01mfor\u001b[39;00m i \u001b[38;5;129;01min\u001b[39;00m \u001b[38;5;28mrange\u001b[39m(m):\n\u001b[32m      5\u001b[39m     xi = np.insert(X[i], \u001b[32m0\u001b[39m, \u001b[32m1\u001b[39m)\n\u001b[32m----> \u001b[39m\u001b[32m6\u001b[39m     del_J_theta_j = del_J_theta_j + xi[j] * (\u001b[43mh\u001b[49m\u001b[43m(\u001b[49m\u001b[43mTHETA\u001b[49m\u001b[43m,\u001b[49m\u001b[43m \u001b[49m\u001b[43mX\u001b[49m\u001b[43m[\u001b[49m\u001b[43mi\u001b[49m\u001b[43m]\u001b[49m\u001b[43m)\u001b[49m - Y[i])\n\u001b[32m      7\u001b[39m del_J_theta_j = del_J_theta_j * (LEARNING_RATE / m)\n\u001b[32m      8\u001b[39m \u001b[38;5;28;01mreturn\u001b[39;00m del_J_theta_j\n",
      "\u001b[36mCell\u001b[39m\u001b[36m \u001b[39m\u001b[32mIn[10]\u001b[39m\u001b[32m, line 5\u001b[39m, in \u001b[36mh\u001b[39m\u001b[34m(THETA, xi)\u001b[39m\n\u001b[32m      3\u001b[39m \u001b[38;5;28;01mdef\u001b[39;00m\u001b[38;5;250m \u001b[39m\u001b[34mh\u001b[39m(THETA, xi):\n\u001b[32m      4\u001b[39m     partial = \u001b[32m0.0\u001b[39m\n\u001b[32m----> \u001b[39m\u001b[32m5\u001b[39m     xi = \u001b[43mnp\u001b[49m\u001b[43m.\u001b[49m\u001b[43minsert\u001b[49m\u001b[43m(\u001b[49m\u001b[43mxi\u001b[49m\u001b[43m,\u001b[49m\u001b[43m \u001b[49m\u001b[32;43m0\u001b[39;49m\u001b[43m,\u001b[49m\u001b[43m \u001b[49m\u001b[32;43m1\u001b[39;49m\u001b[43m)\u001b[49m\n\u001b[32m      6\u001b[39m     \u001b[38;5;28;01mfor\u001b[39;00m i \u001b[38;5;129;01min\u001b[39;00m \u001b[38;5;28mrange\u001b[39m(\u001b[38;5;28mlen\u001b[39m(THETA)):\n\u001b[32m      7\u001b[39m         partial += THETA[i] * xi[i]\n",
      "\u001b[36mFile \u001b[39m\u001b[32m~/ML/ML/lib/python3.12/site-packages/numpy/lib/_function_base_impl.py:5601\u001b[39m, in \u001b[36minsert\u001b[39m\u001b[34m(arr, obj, values, axis)\u001b[39m\n\u001b[32m   5596\u001b[39m values = array(values, copy=\u001b[38;5;28;01mNone\u001b[39;00m, ndmin=arr.ndim, dtype=arr.dtype)\n\u001b[32m   5597\u001b[39m \u001b[38;5;28;01mif\u001b[39;00m indices.ndim == \u001b[32m0\u001b[39m:\n\u001b[32m   5598\u001b[39m     \u001b[38;5;66;03m# broadcasting is very different here, since a[:,0,:] = ... behaves\u001b[39;00m\n\u001b[32m   5599\u001b[39m     \u001b[38;5;66;03m# very different from a[:,[0],:] = ...! This changes values so that\u001b[39;00m\n\u001b[32m   5600\u001b[39m     \u001b[38;5;66;03m# it works likes the second case. (here a[:,0:1,:])\u001b[39;00m\n\u001b[32m-> \u001b[39m\u001b[32m5601\u001b[39m     values = \u001b[43mnp\u001b[49m\u001b[43m.\u001b[49m\u001b[43mmoveaxis\u001b[49m\u001b[43m(\u001b[49m\u001b[43mvalues\u001b[49m\u001b[43m,\u001b[49m\u001b[43m \u001b[49m\u001b[32;43m0\u001b[39;49m\u001b[43m,\u001b[49m\u001b[43m \u001b[49m\u001b[43maxis\u001b[49m\u001b[43m)\u001b[49m\n\u001b[32m   5602\u001b[39m numnew = values.shape[axis]\n\u001b[32m   5603\u001b[39m newshape[axis] += numnew\n",
      "\u001b[36mFile \u001b[39m\u001b[32m~/ML/ML/lib/python3.12/site-packages/numpy/_core/numeric.py:1514\u001b[39m, in \u001b[36mmoveaxis\u001b[39m\u001b[34m(a, source, destination)\u001b[39m\n\u001b[32m   1511\u001b[39m \u001b[38;5;28;01mfor\u001b[39;00m dest, src \u001b[38;5;129;01min\u001b[39;00m \u001b[38;5;28msorted\u001b[39m(\u001b[38;5;28mzip\u001b[39m(destination, source)):\n\u001b[32m   1512\u001b[39m     order.insert(dest, src)\n\u001b[32m-> \u001b[39m\u001b[32m1514\u001b[39m result = \u001b[43mtranspose\u001b[49m\u001b[43m(\u001b[49m\u001b[43morder\u001b[49m\u001b[43m)\u001b[49m\n\u001b[32m   1515\u001b[39m \u001b[38;5;28;01mreturn\u001b[39;00m result\n",
      "\u001b[31mKeyboardInterrupt\u001b[39m: "
     ]
    }
   ],
   "source": [
    "best_THETA = THETA.copy()\n",
    "PATIENCE_LIMIT = 10\n",
    "patience_counter = 0\n",
    "best_cost_VAL = np.float64('inf')\n",
    "\n",
    "for i in range(1000):\n",
    "    start_epoch = time.time()\n",
    "    THETA = update_theta(THETA, train_X, train_Y)\n",
    "    end_epoch = time.time()\n",
    "    cost_VAL = cost(THETA, val_X, val_Y)\n",
    "    cost_TRAIN = cost(THETA, train_X, train_Y)\n",
    "\n",
    "    if (cost_VAL < best_cost_VAL):\n",
    "        patience_counter = 0\n",
    "        best_THETA = THETA.copy()\n",
    "        best_cost_VAL = cost_VAL\n",
    "    else:\n",
    "        patience_counter += 1\n",
    "               \n",
    "    if (patience_counter == PATIENCE_LIMIT):\n",
    "        break"
   ]
  }
 ],
 "metadata": {
  "kernelspec": {
   "display_name": "Python 3 (ipykernel)",
   "language": "python",
   "name": "python3"
  },
  "language_info": {
   "codemirror_mode": {
    "name": "ipython",
    "version": 3
   },
   "file_extension": ".py",
   "mimetype": "text/x-python",
   "name": "python",
   "nbconvert_exporter": "python",
   "pygments_lexer": "ipython3",
   "version": "3.12.3"
  }
 },
 "nbformat": 4,
 "nbformat_minor": 5
}
