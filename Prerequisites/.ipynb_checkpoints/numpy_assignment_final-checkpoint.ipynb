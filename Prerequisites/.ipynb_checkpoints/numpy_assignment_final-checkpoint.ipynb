{
 "cells": [
  {
   "cell_type": "code",
   "execution_count": null,
   "id": "d3b8835a",
   "metadata": {},
   "outputs": [],
   "source": [
    "import numpy as np\n",
    "import pandas as pd\n",
    "import matplotlib.pyplot as plt\n",
    "import time\n",
    "from sklearn.linear_model import LinearRegression\n",
    "import seaborn as sns"
   ]
  },
  {
   "cell_type": "code",
   "execution_count": null,
   "id": "1de1bbd7",
   "metadata": {},
   "outputs": [],
   "source": [
    "df = pd.read_csv('housing.csv')"
   ]
  },
  {
   "cell_type": "markdown",
   "id": "f366d8bb",
   "metadata": {},
   "source": [
    "ENCODING THE ocean_proximity CATEGORICAL VARIABLE"
   ]
  },
  {
   "cell_type": "code",
   "execution_count": null,
   "id": "79083d39",
   "metadata": {},
   "outputs": [],
   "source": [
    "def encode_proximity(x):\n",
    "    location = x['ocean_proximity']\n",
    "    if location == 'NEAR BAY':\n",
    "        return 0\n",
    "    elif location == '<1H OCEAN':\n",
    "        return 1\n",
    "    elif location == 'INLAND':\n",
    "        return 2\n",
    "    elif location == 'NEAR OCEAN':\n",
    "        return 3\n",
    "    elif location == 'ISLAND':\n",
    "        return 4\n",
    "    else:\n",
    "        raise Exception\n",
    "df['ocean_proximity'] = df.apply(encode_proximity, axis = 1)"
   ]
  },
  {
   "cell_type": "markdown",
   "id": "46604f7f",
   "metadata": {},
   "source": [
    "# PREPROCESSING"
   ]
  },
  {
   "cell_type": "markdown",
   "id": "e3d68052",
   "metadata": {},
   "source": [
    "FILLING OUT nan's IN total_bedrooms"
   ]
  },
  {
   "cell_type": "code",
   "execution_count": null,
   "id": "ecc44552",
   "metadata": {},
   "outputs": [],
   "source": [
    "df['total_bedrooms'] = df['total_bedrooms'].fillna(df['total_bedrooms'].mean())"
   ]
  },
  {
   "cell_type": "markdown",
   "id": "6410970c",
   "metadata": {},
   "source": [
    "APPLYING Z-SCALE NORMALIZATION TO THE median_house_value"
   ]
  },
  {
   "cell_type": "code",
   "execution_count": null,
   "id": "c2c995d1",
   "metadata": {},
   "outputs": [],
   "source": [
    "MEAN = df['median_house_value'].mean()\n",
    "STD = df['median_house_value'].std()\n",
    "\n",
    "df['median_house_value'] = df.apply(lambda x: (x['median_house_value'] - MEAN) / STD, axis = 1)"
   ]
  },
  {
   "cell_type": "markdown",
   "id": "a75f40c0",
   "metadata": {},
   "source": [
    "APPLYING Z-SCALE NORMALIZATION TO total_rooms, total_bedrooms, population, households AND median_income\n",
    "AVOIDING APPLYING NORMALIZATION TO CATEGORICAL VARIABLE ocean_proximity"
   ]
  },
  {
   "cell_type": "code",
   "execution_count": null,
   "id": "0738e8f6",
   "metadata": {},
   "outputs": [],
   "source": [
    "columns = df.columns.to_list()[:-2]\n",
    "for col in columns:\n",
    "    MEAN = df[col].mean()\n",
    "    STD = df[col].std()\n",
    "    df[col] = df.apply(lambda x: (x[col] - MEAN) / STD, axis = 1)"
   ]
  },
  {
   "cell_type": "markdown",
   "id": "bfef68fb",
   "metadata": {},
   "source": [
    "SPLITTING THE DATASET INTO train_X, train_Y and test_X, test_Y"
   ]
  },
  {
   "cell_type": "code",
   "execution_count": null,
   "id": "31f320f4",
   "metadata": {},
   "outputs": [],
   "source": [
    "train = df.sample(frac = 0.7, random_state = 24075108)\n",
    "combined = df.drop(train.index)\n",
    "test = combined.sample(frac = 2 / 3, random_state = 24075108)\n",
    "val = combined.drop(test.index)"
   ]
  },
  {
   "cell_type": "markdown",
   "id": "1cc451ea",
   "metadata": {},
   "source": [
    "SEPARATING THE DATASET INTO label(Y) AND input_features(X)"
   ]
  },
  {
   "cell_type": "code",
   "execution_count": null,
   "id": "2a40edfe",
   "metadata": {},
   "outputs": [],
   "source": [
    "needed_columns = ['housing_median_age', 'total_rooms', 'total_bedrooms', 'population', 'households', 'median_income', 'ocean_proximity']\n",
    "\n",
    "train_Y = train['median_house_value'].values\n",
    "train_X = train.loc[:, needed_columns].values\n",
    "\n",
    "test_Y = test['median_house_value'].values\n",
    "test_X = test.loc[:, needed_columns].values\n",
    "\n",
    "val_Y = val['median_house_value'].values\n",
    "val_X = val.loc[:, needed_columns].values"
   ]
  },
  {
   "cell_type": "markdown",
   "id": "3c450fcf",
   "metadata": {},
   "source": [
    "# STARTING TRAINING"
   ]
  },
  {
   "cell_type": "code",
   "execution_count": null,
   "id": "e77f5aa6",
   "metadata": {},
   "outputs": [],
   "source": [
    "THETA = np.array([0.0 for x in range(train_X.shape[1] + 1)])"
   ]
  },
  {
   "cell_type": "code",
   "execution_count": null,
   "id": "2a41d522",
   "metadata": {},
   "outputs": [],
   "source": [
    "LEARNING_RATE = 0.01\n",
    "\n",
    "def h(THETA, xi):\n",
    "    partial = 0.0\n",
    "    xi = np.insert(xi, 0, 1)\n",
    "    return np.inner(THETA, xi)\n",
    "\n",
    "def cost(THETA, X, Y):\n",
    "    m = Y.size\n",
    "    res = np.sum(\n",
    "        np.power(\n",
    "            np.apply_along_axis(lambda x: h(THETA, x), 1, X) - Y, 2\n",
    "        )\n",
    "    )\n",
    "    return (1 / (2 * m)) * res\n",
    "\n",
    "def r2(THETA, X, Y):\n",
    "    m = Y.size\n",
    "    RSS = 2 * m * cost(THETA, X, Y)\n",
    "    TSS = np.sum(np.power(Y, 2))\n",
    "    # As after normalization, mean of Y becomes 0\n",
    "    return 1 - (RSS / TSS)\n",
    "\n",
    "def r2_preds_true(Y_pred, Y_true):\n",
    "    m = Y_pred.size\n",
    "    RSS = np.sum(np.power(Y_pred - Y_true, 2))\n",
    "    TSS = np.sum(np.power(Y_true.mean() - Y_true, 2))\n",
    "    return 1 - (RSS / TSS)"
   ]
  },
  {
   "cell_type": "code",
   "execution_count": null,
   "id": "67e270da",
   "metadata": {},
   "outputs": [],
   "source": [
    "def update_theta_j(THETA, X, Y, j):\n",
    "    m = Y.size\n",
    "    del_J_theta_j = 0.0\n",
    "    \n",
    "    errors = np.apply_along_axis(lambda x: h(THETA, x), 1, X) - Y\n",
    "    xij = np.hstack((np.ones((m, 1)), X))\n",
    "    del_J_theta_j = np.inner(xij[:, j], errors)\n",
    "    \n",
    "    del_J_theta_j *= (LEARNING_RATE / m)\n",
    "    return del_J_theta_j\n",
    "    \n",
    "def update_theta(THETA, X, Y):\n",
    "    THETA_OLD = THETA.copy()\n",
    "    \n",
    "    n = len(THETA)\n",
    "    for i in range(n):\n",
    "        THETA[i] -= update_theta_j(THETA_OLD, X, Y, i)\n",
    "    return THETA"
   ]
  },
  {
   "cell_type": "code",
   "execution_count": null,
   "id": "15f6c0ee",
   "metadata": {},
   "outputs": [
    {
     "name": "stdout",
     "output_type": "stream",
     "text": [
      "Epoch 826 finished.\n",
      "Epoch 827 finished.\n",
      "Epoch 828 finished.\n",
      "Epoch 829 finished.\n",
      "Epoch 830 finished.\n",
      "Epoch 831 finished.\n",
      "Epoch 832 finished.\n",
      "Epoch 833 finished.\n",
      "Epoch 834 finished.\n",
      "Epoch 835 finished.\n",
      "Epoch 836 finished.\n",
      "Epoch 837 finished.\n",
      "Epoch 838 finished.\n",
      "Epoch 839 finished.\n",
      "Epoch 840 finished.\n",
      "Epoch 841 finished.\n",
      "Epoch 842 finished.\n",
      "Epoch 843 finished.\n",
      "Epoch 844 finished.\n",
      "Epoch 845 finished.\n",
      "Epoch 846 finished.\n",
      "Epoch 847 finished.\n",
      "Epoch 848 finished.\n",
      "Epoch 849 finished.\n",
      "Epoch 850 finished.\n",
      "Epoch 851 finished.\n",
      "Epoch 852 finished.\n",
      "Epoch 853 finished.\n",
      "Epoch 854 finished.\n",
      "Epoch 855 finished.\n",
      "Epoch 856 finished.\n",
      "Epoch 857 finished.\n",
      "Epoch 858 finished.\n",
      "Epoch 859 finished.\n",
      "Epoch 860 finished.\n",
      "Epoch 861 finished.\n",
      "Epoch 862 finished.\n",
      "Epoch 863 finished.\n",
      "Epoch 864 finished.\n",
      "Epoch 865 finished.\n",
      "Epoch 866 finished.\n",
      "Epoch 867 finished.\n",
      "Epoch 868 finished.\n",
      "Epoch 869 finished.\n",
      "Epoch 870 finished.\n",
      "Epoch 871 finished.\n",
      "Epoch 872 finished.\n",
      "Epoch 873 finished.\n",
      "Epoch 874 finished.\n",
      "Epoch 875 finished.\n",
      "Epoch 876 finished.\n",
      "Epoch 877 finished.\n",
      "Epoch 878 finished.\n",
      "Epoch 879 finished.\n",
      "Epoch 880 finished.\n",
      "Epoch 881 finished.\n",
      "Epoch 882 finished.\n",
      "Epoch 883 finished.\n",
      "Epoch 884 finished.\n",
      "Epoch 885 finished.\n",
      "Epoch 886 finished.\n",
      "Epoch 887 finished.\n",
      "Epoch 888 finished.\n",
      "Epoch 889 finished.\n",
      "Epoch 890 finished.\n",
      "Epoch 891 finished.\n",
      "Epoch 892 finished.\n",
      "Epoch 893 finished.\n",
      "Epoch 894 finished.\n",
      "Epoch 895 finished.\n",
      "Epoch 896 finished.\n",
      "Epoch 897 finished.\n",
      "Epoch 898 finished.\n",
      "Epoch 899 finished.\n",
      "Epoch 900 finished.\n",
      "Epoch 901 finished.\n",
      "Epoch 902 finished.\n",
      "Epoch 903 finished.\n",
      "Epoch 904 finished.\n",
      "Epoch 905 finished.\n",
      "Epoch 906 finished.\n",
      "Epoch 907 finished.\n",
      "Epoch 908 finished.\n",
      "Epoch 909 finished.\n",
      "Epoch 910 finished.\n",
      "Epoch 911 finished.\n",
      "Epoch 912 finished.\n",
      "Epoch 913 finished.\n",
      "Epoch 914 finished.\n",
      "Epoch 915 finished.\n",
      "Epoch 916 finished.\n",
      "Epoch 917 finished.\n",
      "Epoch 918 finished.\n",
      "Epoch 919 finished.\n",
      "Epoch 920 finished.\n",
      "Epoch 921 finished.\n",
      "Epoch 922 finished.\n",
      "Epoch 923 finished.\n",
      "Epoch 924 finished.\n",
      "Epoch 925 finished.\n",
      "Epoch 926 finished.\n",
      "Epoch 927 finished.\n",
      "Epoch 928 finished.\n",
      "Epoch 929 finished.\n",
      "Epoch 930 finished.\n",
      "Epoch 931 finished.\n",
      "Epoch 932 finished.\n",
      "Epoch 933 finished.\n",
      "Epoch 934 finished.\n",
      "Epoch 935 finished.\n",
      "Epoch 936 finished.\n",
      "Epoch 937 finished.\n",
      "Epoch 938 finished.\n",
      "Epoch 939 finished.\n",
      "Epoch 940 finished.\n",
      "Epoch 941 finished.\n",
      "Epoch 942 finished.\n",
      "Epoch 943 finished.\n",
      "Epoch 944 finished.\n",
      "Epoch 945 finished.\n",
      "Epoch 946 finished.\n",
      "Epoch 947 finished.\n",
      "Epoch 948 finished.\n",
      "Epoch 949 finished.\n",
      "Epoch 950 finished.\n",
      "Epoch 951 finished.\n",
      "Epoch 952 finished.\n",
      "Epoch 953 finished.\n",
      "Epoch 954 finished.\n",
      "Epoch 955 finished.\n",
      "Epoch 956 finished.\n",
      "Epoch 957 finished.\n",
      "Epoch 958 finished.\n",
      "Epoch 959 finished.\n",
      "Epoch 960 finished.\n",
      "Epoch 961 finished.\n",
      "Epoch 962 finished.\n",
      "Epoch 963 finished.\n",
      "Epoch 964 finished.\n",
      "Epoch 965 finished.\n",
      "Epoch 966 finished.\n",
      "Epoch 967 finished.\n",
      "Epoch 968 finished.\n",
      "Epoch 969 finished.\n",
      "Epoch 970 finished.\n",
      "Epoch 971 finished.\n",
      "Epoch 972 finished.\n",
      "Epoch 973 finished.\n",
      "Epoch 974 finished.\n",
      "Epoch 975 finished.\n",
      "Epoch 976 finished.\n",
      "Epoch 977 finished.\n",
      "Epoch 978 finished.\n",
      "Epoch 979 finished.\n",
      "Epoch 980 finished.\n",
      "Epoch 981 finished.\n",
      "Epoch 982 finished.\n",
      "Epoch 983 finished.\n",
      "Epoch 984 finished.\n",
      "Epoch 985 finished.\n",
      "Epoch 986 finished.\n",
      "Epoch 987 finished.\n",
      "Epoch 988 finished.\n",
      "Epoch 989 finished.\n",
      "Epoch 990 finished.\n",
      "Epoch 991 finished.\n",
      "Epoch 992 finished.\n",
      "Epoch 993 finished.\n",
      "Epoch 994 finished.\n",
      "Epoch 995 finished.\n",
      "Epoch 996 finished.\n",
      "Epoch 997 finished.\n",
      "Epoch 998 finished.\n",
      "Epoch 999 finished.\n"
     ]
    }
   ],
   "source": [
    "best_THETA = THETA.copy()\n",
    "PATIENCE_LIMIT = 10\n",
    "patience_counter = 0\n",
    "best_cost_VAL = np.float64('inf')\n",
    "\n",
    "for i in range(1000):\n",
    "    start_epoch = time.time()\n",
    "    THETA = update_theta(THETA, train_X, train_Y)\n",
    "    end_epoch = time.time()\n",
    "    cost_VAL = cost(THETA, val_X, val_Y)\n",
    "    cost_TRAIN = cost(THETA, train_X, train_Y)\n",
    "\n",
    "    if (cost_VAL < best_cost_VAL):\n",
    "        patience_counter = 0\n",
    "        best_THETA = THETA.copy()\n",
    "        best_cost_VAL = cost_VAL\n",
    "    else:\n",
    "        patience_counter += 1\n",
    "               \n",
    "    if (patience_counter == PATIENCE_LIMIT):\n",
    "        break"
   ]
  }
 ],
 "metadata": {
  "kernelspec": {
   "display_name": "Python 3 (ipykernel)",
   "language": "python",
   "name": "python3"
  },
  "language_info": {
   "codemirror_mode": {
    "name": "ipython",
    "version": 3
   },
   "file_extension": ".py",
   "mimetype": "text/x-python",
   "name": "python",
   "nbconvert_exporter": "python",
   "pygments_lexer": "ipython3",
   "version": "3.12.3"
  }
 },
 "nbformat": 4,
 "nbformat_minor": 5
}
