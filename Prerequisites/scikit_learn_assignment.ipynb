{
 "cells": [
  {
   "cell_type": "code",
   "execution_count": 78,
   "id": "d3b8835a",
   "metadata": {},
   "outputs": [],
   "source": [
    "import numpy as np\n",
    "import pandas as pd\n",
    "import matplotlib.pyplot as plt\n",
    "import time\n",
    "from sklearn.linear_model import LinearRegression\n",
    "from sklearn.metrics import mean_squared_error, r2_score, mean_absolute_error"
   ]
  },
  {
   "cell_type": "code",
   "execution_count": 2,
   "id": "1de1bbd7",
   "metadata": {},
   "outputs": [],
   "source": [
    "df = pd.read_csv('housing.csv')"
   ]
  },
  {
   "cell_type": "markdown",
   "id": "f366d8bb",
   "metadata": {},
   "source": [
    "ENCODING THE ocean_proximity CATEGORICAL VARIABLE"
   ]
  },
  {
   "cell_type": "code",
   "execution_count": 3,
   "id": "79083d39",
   "metadata": {},
   "outputs": [],
   "source": [
    "def encode_proximity(x):\n",
    "    location = x['ocean_proximity']\n",
    "    if location == 'NEAR BAY':\n",
    "        return 0\n",
    "    elif location == '<1H OCEAN':\n",
    "        return 1\n",
    "    elif location == 'INLAND':\n",
    "        return 2\n",
    "    elif location == 'NEAR OCEAN':\n",
    "        return 3\n",
    "    elif location == 'ISLAND':\n",
    "        return 4\n",
    "    else:\n",
    "        raise Exception\n",
    "df['ocean_proximity'] = df.apply(encode_proximity, axis = 1)"
   ]
  },
  {
   "cell_type": "markdown",
   "id": "46604f7f",
   "metadata": {},
   "source": [
    "# PREPROCESSING"
   ]
  },
  {
   "cell_type": "markdown",
   "id": "e3d68052",
   "metadata": {},
   "source": [
    "FILLING OUT nan's IN total_bedrooms"
   ]
  },
  {
   "cell_type": "code",
   "execution_count": 4,
   "id": "ecc44552",
   "metadata": {},
   "outputs": [],
   "source": [
    "df['total_bedrooms'] = df['total_bedrooms'].fillna(df['total_bedrooms'].mean())"
   ]
  },
  {
   "cell_type": "code",
   "execution_count": 53,
   "id": "774a72d6-9e7c-4030-81db-c87f8976c19c",
   "metadata": {},
   "outputs": [],
   "source": [
    "MEAN = df['median_house_value'].mean()\n",
    "STD = df['median_house_value'].std()\n",
    "\n",
    "df['median_house_value'] = df.apply(lambda x: (x['median_house_value'] - MEAN) / STD, axis = 1)"
   ]
  },
  {
   "cell_type": "code",
   "execution_count": 54,
   "id": "615abf17-85ef-4274-97ff-8c89b560199f",
   "metadata": {},
   "outputs": [],
   "source": [
    "columns = df.columns.to_list()[:-2]\n",
    "for col in columns:\n",
    "    MEAN = df[col].mean()\n",
    "    STD = df[col].std()\n",
    "    df[col] = df.apply(lambda x: (x[col] - MEAN) / STD, axis = 1)"
   ]
  },
  {
   "cell_type": "code",
   "execution_count": 57,
   "id": "f94070fd",
   "metadata": {},
   "outputs": [],
   "source": [
    "train = df.sample(frac = 0.7, random_state = 24075108)\n",
    "test = df.drop(train.index)\n",
    "\n",
    "train_Y = train['median_house_value'].values\n",
    "train_X = train.loc[:, ['longitude','latitude','housing_median_age','total_rooms','total_bedrooms','population','households','median_income','ocean_proximity']].values\n",
    "\n",
    "test_Y = test['median_house_value'].values\n",
    "test_X = test.loc[:, ['longitude','latitude','housing_median_age','total_rooms','total_bedrooms','population','households','median_income','ocean_proximity']].values"
   ]
  },
  {
   "cell_type": "markdown",
   "id": "3c450fcf",
   "metadata": {},
   "source": [
    "# STARTING TRAINING"
   ]
  },
  {
   "cell_type": "code",
   "execution_count": 81,
   "id": "b6a6aecb",
   "metadata": {
    "scrolled": true
   },
   "outputs": [],
   "source": [
    "LR = LinearRegression(\n",
    "    fit_intercept = True\n",
    ")"
   ]
  },
  {
   "cell_type": "code",
   "execution_count": 82,
   "id": "2a0daf34-220d-488b-be8b-26b642113ff0",
   "metadata": {},
   "outputs": [
    {
     "name": "stdout",
     "output_type": "stream",
     "text": [
      "0.002735137939453125\n"
     ]
    }
   ],
   "source": [
    "start = time.time()\n",
    "LR.fit(train_X, train_Y)\n",
    "end = time.time()\n",
    "print(end - start)"
   ]
  },
  {
   "cell_type": "code",
   "execution_count": 72,
   "id": "f21de9ab-ccd3-4d33-8e3c-b5230928051b",
   "metadata": {},
   "outputs": [
    {
     "data": {
      "text/plain": [
       "array([-0.72179136, -0.77124166,  0.12450042, -0.10574507,  0.27323293,\n",
       "       -0.44195424,  0.31129681,  0.65159888, -0.0274112 ])"
      ]
     },
     "execution_count": 72,
     "metadata": {},
     "output_type": "execute_result"
    }
   ],
   "source": [
    "LR.coef_"
   ]
  },
  {
   "cell_type": "code",
   "execution_count": 71,
   "id": "b2f19f5a-f8a9-49b1-be32-45a301c7e984",
   "metadata": {},
   "outputs": [
    {
     "data": {
      "text/plain": [
       "np.float64(0.04111573245301424)"
      ]
     },
     "execution_count": 71,
     "metadata": {},
     "output_type": "execute_result"
    }
   ],
   "source": [
    "LR.intercept_"
   ]
  },
  {
   "cell_type": "code",
   "execution_count": 70,
   "id": "58fc0b7d",
   "metadata": {},
   "outputs": [
    {
     "data": {
      "text/plain": [
       "0.6299559629412388"
      ]
     },
     "execution_count": 70,
     "metadata": {},
     "output_type": "execute_result"
    }
   ],
   "source": [
    "r2_score(test_Y, LR.predict(test_X))"
   ]
  },
  {
   "cell_type": "code",
   "execution_count": 79,
   "id": "a0353241-88be-4363-ac23-ee3e190144a9",
   "metadata": {},
   "outputs": [
    {
     "data": {
      "text/plain": [
       "0.3649802835294711"
      ]
     },
     "execution_count": 79,
     "metadata": {},
     "output_type": "execute_result"
    }
   ],
   "source": [
    "mean_squared_error(test_Y, LR.predict(test_X))"
   ]
  },
  {
   "cell_type": "code",
   "execution_count": 80,
   "id": "5ca971d5-030e-411f-a4ad-92a6146b987d",
   "metadata": {},
   "outputs": [
    {
     "data": {
      "text/plain": [
       "0.43809748741277377"
      ]
     },
     "execution_count": 80,
     "metadata": {},
     "output_type": "execute_result"
    }
   ],
   "source": [
    "mean_absolute_error(test_Y, LR.predict(test_X))"
   ]
  }
 ],
 "metadata": {
  "kernelspec": {
   "display_name": "Python 3 (ipykernel)",
   "language": "python",
   "name": "python3"
  },
  "language_info": {
   "codemirror_mode": {
    "name": "ipython",
    "version": 3
   },
   "file_extension": ".py",
   "mimetype": "text/x-python",
   "name": "python",
   "nbconvert_exporter": "python",
   "pygments_lexer": "ipython3",
   "version": "3.12.3"
  }
 },
 "nbformat": 4,
 "nbformat_minor": 5
}
